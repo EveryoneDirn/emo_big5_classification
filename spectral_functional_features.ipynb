{
 "cells": [
  {
   "cell_type": "code",
   "execution_count": 1,
   "metadata": {},
   "outputs": [],
   "source": [
    "import mne\n",
    "\n",
    "import pandas as pd\n",
    "import numpy as np\n",
    "import pickle\n",
    "\n",
    "from sklearn.preprocessing import MinMaxScaler\n",
    "from IPython.display import clear_output\n",
    "import os\n",
    "\n",
    "from scipy import io\n",
    "from scipy.stats import entropy\n",
    "\n",
    "import pywt\n",
    "import eegraph\n",
    "\n",
    "from utils import *\n",
    "\n",
    "data_path = 'AMIGOS/preprocessed/'"
   ]
  },
  {
   "cell_type": "code",
   "execution_count": 2,
   "metadata": {},
   "outputs": [],
   "source": [
    "df = build_dataframe(data_path)"
   ]
  },
  {
   "cell_type": "code",
   "execution_count": 3,
   "metadata": {},
   "outputs": [],
   "source": [
    "df0 = df.copy()"
   ]
  },
  {
   "cell_type": "code",
   "execution_count": 4,
   "metadata": {},
   "outputs": [],
   "source": [
    "### create different types of scaled eeg data based on filtration borders\n",
    "df.EEG = df0.EEG.apply(lambda x: scale_eeg(x, 4, 45))\n",
    "\n",
    "with open(data_path + 'pd_model_dataset_ica_4_45.pkl', 'wb') as f:\n",
    "    pickle.dump(df, f)"
   ]
  },
  {
   "cell_type": "code",
   "execution_count": 5,
   "metadata": {},
   "outputs": [],
   "source": [
    "### make discrete wavelet transform and save new files\n",
    "\n",
    "for name in ['pd_model_dataset_ica_4_45']:\n",
    "    with open(data_path + name + '.pkl', 'rb') as f:\n",
    "        df = pickle.load(f)\n",
    "     \n",
    "    for dwt_method in ['energy', 'entropy']:\n",
    "        data_list = [discrete_wavelet_transform(eeg, dwt_method) for eeg in df.EEG]\n",
    "        data_list = zero_padding(data_list, 80) \n",
    "        df['dwt'] = data_list\n",
    "\n",
    "        with open(data_path + name + '_dwt_' + dwt_method + '.pkl', 'wb') as f:\n",
    "            pickle.dump(df, f)\n",
    "            \n",
    "    os.remove(data_path + name + '.pkl')"
   ]
  },
  {
   "cell_type": "code",
   "execution_count": 6,
   "metadata": {},
   "outputs": [],
   "source": [
    "def save_edf_eegs(data_path, EEGS):\n",
    "    for i in range(len(EEGS)):\n",
    "        eegmat = EEGS[i]\n",
    "        info = mne.create_info(['AF3', 'F7', 'F3', 'FC5', 'T7', \n",
    "                                    'P7', 'O1', 'O2', 'P8', 'T8', \n",
    "                                    'FC6', 'F4', 'F8', 'AF4'], sfreq=128, \n",
    "                                  ch_types= 14*['eeg'])\n",
    "\n",
    "        raw = mne.io.RawArray(eegmat, info)\n",
    "        raw.set_montage('standard_1020')\n",
    "\n",
    "        mne.export.export_raw(data_path + 'eegraph_files/eeg_{}.edf'.format(i), raw, fmt='edf')"
   ]
  },
  {
   "cell_type": "markdown",
   "metadata": {},
   "source": [
    "## Functional features\n",
    "\n",
    "##### Go to final_create_eds_files.ipynb and run cells for all pickle file names\n",
    "##### Continue after all"
   ]
  },
  {
   "cell_type": "code",
   "execution_count": 16,
   "metadata": {},
   "outputs": [],
   "source": [
    "for name in [x for x in os.listdir(data_path) if '_dwt_' in x and '.pkl' in x and '_func_data_' not in x]:\n",
    "    with open(data_path + name, 'rb') as f:\n",
    "        df = pickle.load(f)\n",
    "    \n",
    "    edfs_dict = {}\n",
    "\n",
    "    for i in range(df.shape[0]):\n",
    "        G = eegraph.Graph()\n",
    "        G.load_data(data_path + 'eegraph_files_' + name.split('.')[0] +  '/eeg_{}.edf'.format(i))\n",
    "        edfs_dict[i] = G\n",
    "        clear_output(wait=False)\n",
    "    \n",
    "    for window_size in [2,3]:\n",
    "        matrices = []\n",
    "        for i in edfs_dict.keys():\n",
    "            print(i)\n",
    "            graphs, connectivity_matrix = edfs_dict[i].modelate(window_size = window_size, \n",
    "                                                                connectivity = 'imag_coherence', \n",
    "                                                                bands = ['delta','theta','alpha','beta','gamma'])\n",
    "            matrices.append(connectivity_matrix)\n",
    "            clear_output(wait=False)\n",
    "            \n",
    "        df['im_coh_'+ str(window_size)] = matrices\n",
    "            \n",
    "        matrices = []\n",
    "        for i in edfs_dict.keys():\n",
    "            print(i)\n",
    "            graphs, connectivity_matrix = edfs_dict[i].modelate(window_size = window_size, \n",
    "                                                                connectivity = 'pearson_correlation')\n",
    "            matrices.append(connectivity_matrix)\n",
    "            clear_output(wait=False)\n",
    "            \n",
    "        df['pearson_corr_'+ str(window_size)] = matrices\n",
    "        \n",
    "    with open(data_path + name.replace('.pkl', '') + '_func_data.pkl', 'wb') as f:\n",
    "        pickle.dump(df, f)\n",
    "            \n",
    "    os.remove(data_path + name)"
   ]
  },
  {
   "cell_type": "markdown",
   "metadata": {},
   "source": [
    "## Spectral features\n",
    "##### Go to final_encoder_features.ipynb and create autoencoder features\n"
   ]
  },
  {
   "cell_type": "code",
   "execution_count": null,
   "metadata": {},
   "outputs": [],
   "source": []
  }
 ],
 "metadata": {
  "kernelspec": {
   "display_name": "eegraph",
   "language": "python",
   "name": "eegraph"
  },
  "language_info": {
   "codemirror_mode": {
    "name": "ipython",
    "version": 3
   },
   "file_extension": ".py",
   "mimetype": "text/x-python",
   "name": "python",
   "nbconvert_exporter": "python",
   "pygments_lexer": "ipython3",
   "version": "3.8.13"
  }
 },
 "nbformat": 4,
 "nbformat_minor": 4
}
