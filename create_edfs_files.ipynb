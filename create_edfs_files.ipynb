{
 "cells": [
  {
   "cell_type": "code",
   "execution_count": 2,
   "metadata": {},
   "outputs": [],
   "source": [
    "import mne\n",
    "\n",
    "import pandas as pd\n",
    "import numpy as np\n",
    "import pickle\n",
    "\n",
    "from IPython.display import clear_output\n",
    "import os\n",
    "\n",
    "from utils import *\n",
    "\n",
    "data_path = 'AMIGOS/preprocessed/'"
   ]
  },
  {
   "cell_type": "code",
   "execution_count": 6,
   "metadata": {},
   "outputs": [],
   "source": [
    "def save_edf_eegs(data_path, EEGS, name):\n",
    "    for i in range(len(EEGS)):\n",
    "        eegmat = EEGS[i]\n",
    "        info = mne.create_info(['AF3', 'F7', 'F3', 'FC5', 'T7', \n",
    "                                    'P7', 'O1', 'O2', 'P8', 'T8', \n",
    "                                    'FC6', 'F4', 'F8', 'AF4'], sfreq=128, \n",
    "                                  ch_types= 14*['eeg'])\n",
    "\n",
    "        raw = mne.io.RawArray(eegmat, info)\n",
    "        raw.set_montage('standard_1020')\n",
    "        if not os.path.isdir(data_path + 'eegraph_files_' + name.split('.')[0]):\n",
    "            os.mkdir(data_path + 'eegraph_files_' + name.split('.')[0])\n",
    "        mne.export.export_raw(data_path + 'eegraph_files_' + name.split('.')[0] +  '/eeg_{}.edf'.format(i), \n",
    "                              raw, fmt='edf')"
   ]
  },
  {
   "cell_type": "markdown",
   "metadata": {},
   "source": [
    "## Create folders with edfs files"
   ]
  },
  {
   "cell_type": "code",
   "execution_count": 1,
   "metadata": {},
   "outputs": [],
   "source": [
    "for name in ['pd_model_dataset_ica_1_45_dwt_entropy.pkl',]:\n",
    "    with open(data_path + name, 'rb') as f:\n",
    "        df = pickle.load(f)\n",
    "        \n",
    "    save_edf_eegs(data_path, df.EEG, name)"
   ]
  },
  {
   "cell_type": "code",
   "execution_count": null,
   "metadata": {},
   "outputs": [],
   "source": []
  }
 ],
 "metadata": {
  "kernelspec": {
   "display_name": "Python 3",
   "language": "python",
   "name": "python3"
  },
  "language_info": {
   "codemirror_mode": {
    "name": "ipython",
    "version": 3
   },
   "file_extension": ".py",
   "mimetype": "text/x-python",
   "name": "python",
   "nbconvert_exporter": "python",
   "pygments_lexer": "ipython3",
   "version": "3.7.4"
  }
 },
 "nbformat": 4,
 "nbformat_minor": 4
}
